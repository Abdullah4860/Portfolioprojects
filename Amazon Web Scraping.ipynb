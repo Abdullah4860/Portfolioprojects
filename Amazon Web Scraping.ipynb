{
 "cells": [
  {
   "cell_type": "code",
   "execution_count": 65,
   "id": "e68b7283-bfd1-48f8-b1cf-6ecd56aa9f10",
   "metadata": {},
   "outputs": [],
   "source": [
    "from bs4 import BeautifulSoup\n",
    "import requests\n",
    "import smtplib\n",
    "import time\n",
    "import datetime"
   ]
  },
  {
   "cell_type": "code",
   "execution_count": 66,
   "id": "36189892-d01d-46e7-8b86-c34921e9c460",
   "metadata": {},
   "outputs": [
    {
     "name": "stdout",
     "output_type": "stream",
     "text": [
      "I Wear This Shirt Periodically Graphic Science Chemistry Teacher Funny T Shirt\n",
      "$17.99\n"
     ]
    }
   ],
   "source": [
    "URL=\"https://www.amazon.com/dp/B00QSNKKHG/ref=sspa_dk_detail_3?psc=1&pd_rd_i=B00QSNKKHG&pd_rd_w=xQMAa&content-id=amzn1.sym.7446a9d1-25fe-4460-b135-a60336bad2c9&pf_rd_p=7446a9d1-25fe-4460-b135-a60336bad2c9&pf_rd_r=WZTJPER5VNAGM0XS62TV&pd_rd_wg=ttZeu&pd_rd_r=73bb0fa3-42ef-44fe-9ebe-a7b5a3fe3e9d&s=apparel&sp_csd=d2lkZ2V0TmFtZT1zcF9kZXRhaWw\"\n",
    "\n",
    "headers={\"User-Agent\": \"Mozilla/5.0 (Windows NT 10.0; Win64; x64) AppleWebKit/537.36 (KHTML, like Gecko) Chrome/137.0.0.0 Safari/537.36\"}\n",
    "\n",
    "page=requests.get(URL,headers=headers)\n",
    "\n",
    "Soup1=BeautifulSoup(page.content,\"html.parser\")\n",
    "\n",
    "Soup2=BeautifulSoup(Soup1.prettify(),\"html.parser\")\n",
    "\n",
    "title=Soup2.find(id='productTitle').get_text().strip()\n",
    "\n",
    "\n",
    "price=Soup2.find(class_=\"aok-offscreen\").get_text().strip()\n",
    "\n",
    "\n",
    "print(title)\n",
    "\n",
    "print(price)\n",
    "#print(f\"{symbol}{price}.{fraction}\")\n",
    "\n",
    "\n"
   ]
  },
  {
   "cell_type": "code",
   "execution_count": 67,
   "id": "9c637c6a-84c6-4d03-8325-9db207181dc8",
   "metadata": {},
   "outputs": [],
   "source": [
    "price=price[1:]"
   ]
  },
  {
   "cell_type": "code",
   "execution_count": 68,
   "id": "a641e3e3-347f-49a7-9133-4cc75377f78b",
   "metadata": {},
   "outputs": [
    {
     "data": {
      "text/plain": [
       "'17.99'"
      ]
     },
     "execution_count": 68,
     "metadata": {},
     "output_type": "execute_result"
    }
   ],
   "source": [
    "price"
   ]
  },
  {
   "cell_type": "code",
   "execution_count": 69,
   "id": "af718579-5ad3-4a85-87c9-f0dce4338ac9",
   "metadata": {},
   "outputs": [
    {
     "name": "stdout",
     "output_type": "stream",
     "text": [
      "I Wear This Shirt Periodically Graphic Science Chemistry Teacher Funny T Shirt\n",
      "17.99\n"
     ]
    }
   ],
   "source": [
    "print(title)\n",
    "\n",
    "print(price)"
   ]
  },
  {
   "cell_type": "code",
   "execution_count": 70,
   "id": "f7dc5a22-0503-46c8-8449-a3217faed4db",
   "metadata": {},
   "outputs": [],
   "source": [
    "import csv\n",
    "\n",
    "header=['Title','Price','Date']\n",
    "data= [title,price,today]\n",
    "\n",
    "#with open('AmazonWebScraperDataset.csv','w',newline='',encoding='UTF8') as f:\n",
    " #   writer=csv.writer(f)\n",
    "  #  writer.writerow(header)\n",
    "   # writer.writerow(data)\n",
    "    \n",
    "    "
   ]
  },
  {
   "cell_type": "code",
   "execution_count": 75,
   "id": "c03b8cf4-d907-4747-900d-193e083e8d0d",
   "metadata": {},
   "outputs": [
    {
     "data": {
      "text/html": [
       "<div>\n",
       "<style scoped>\n",
       "    .dataframe tbody tr th:only-of-type {\n",
       "        vertical-align: middle;\n",
       "    }\n",
       "\n",
       "    .dataframe tbody tr th {\n",
       "        vertical-align: top;\n",
       "    }\n",
       "\n",
       "    .dataframe thead th {\n",
       "        text-align: right;\n",
       "    }\n",
       "</style>\n",
       "<table border=\"1\" class=\"dataframe\">\n",
       "  <thead>\n",
       "    <tr style=\"text-align: right;\">\n",
       "      <th></th>\n",
       "      <th>Title</th>\n",
       "      <th>Price</th>\n",
       "      <th>Date</th>\n",
       "    </tr>\n",
       "  </thead>\n",
       "  <tbody>\n",
       "    <tr>\n",
       "      <th>0</th>\n",
       "      <td>I Wear This Shirt Periodically Graphic Science...</td>\n",
       "      <td>17.99</td>\n",
       "      <td>2025-06-16</td>\n",
       "    </tr>\n",
       "    <tr>\n",
       "      <th>1</th>\n",
       "      <td>I Wear This Shirt Periodically Graphic Science...</td>\n",
       "      <td>17.99</td>\n",
       "      <td>2025-06-16</td>\n",
       "    </tr>\n",
       "    <tr>\n",
       "      <th>2</th>\n",
       "      <td>I Wear This Shirt Periodically Graphic Science...</td>\n",
       "      <td>17.99</td>\n",
       "      <td>2025-06-16</td>\n",
       "    </tr>\n",
       "  </tbody>\n",
       "</table>\n",
       "</div>"
      ],
      "text/plain": [
       "                                               Title  Price        Date\n",
       "0  I Wear This Shirt Periodically Graphic Science...  17.99  2025-06-16\n",
       "1  I Wear This Shirt Periodically Graphic Science...  17.99  2025-06-16\n",
       "2  I Wear This Shirt Periodically Graphic Science...  17.99  2025-06-16"
      ]
     },
     "execution_count": 75,
     "metadata": {},
     "output_type": "execute_result"
    }
   ],
   "source": [
    "import pandas as pd\n",
    "\n",
    "df=pd.read_csv(r\"C:\\Users\\LENOVO\\AmazonWebScraperDataset.csv\")\n",
    "\n",
    "df"
   ]
  },
  {
   "cell_type": "code",
   "execution_count": 37,
   "id": "3c2177ed-e817-42fa-a2b7-7c57a2e6d792",
   "metadata": {},
   "outputs": [
    {
     "name": "stdout",
     "output_type": "stream",
     "text": [
      "2025-06-16\n"
     ]
    }
   ],
   "source": [
    "import datetime\n",
    "\n",
    "today=datetime.date.today()\n",
    "print(today)\n"
   ]
  },
  {
   "cell_type": "code",
   "execution_count": 73,
   "id": "c864f25d-d86c-469d-b7f5-a152cfc94157",
   "metadata": {},
   "outputs": [],
   "source": [
    "def check_price():\n",
    "    URL=\"https://www.amazon.com/dp/B00QSNKKHG/ref=sspa_dk_detail_3?psc=1&pd_rd_i=B00QSNKKHG&pd_rd_w=xQMAa&content-id=amzn1.sym.7446a9d1-25fe-4460-b135-a60336bad2c9&pf_rd_p=7446a9d1-25fe-4460-b135-a60336bad2c9&pf_rd_r=WZTJPER5VNAGM0XS62TV&pd_rd_wg=ttZeu&pd_rd_r=73bb0fa3-42ef-44fe-9ebe-a7b5a3fe3e9d&s=apparel&sp_csd=d2lkZ2V0TmFtZT1zcF9kZXRhaWw\"\n",
    "\n",
    "    headers={\"User-Agent\": \"Mozilla/5.0 (Windows NT 10.0; Win64; x64) AppleWebKit/537.36 (KHTML, like Gecko) Chrome/137.0.0.0 Safari/537.36\"}\n",
    "\n",
    "    page=requests.get(URL,headers=headers)\n",
    "\n",
    "    Soup1=BeautifulSoup(page.content,\"html.parser\")\n",
    "\n",
    "    Soup2=BeautifulSoup(Soup1.prettify(),\"html.parser\")\n",
    "\n",
    "    title=Soup2.find(id='productTitle').get_text().strip()\n",
    "\n",
    "\n",
    "    price=Soup2.find(class_=\"aok-offscreen\").get_text().strip()\n",
    "    price=price[1:]\n",
    "    import datetime\n",
    "\n",
    "    today=datetime.date.today()\n",
    "    import csv\n",
    "\n",
    "    header=['Title','Price','Date']\n",
    "    data= [title,price,today]\n",
    "    with open('AmazonWebScraperDataset.csv','a+',newline='',encoding='UTF8') as f:\n",
    "        writer=csv.writer(f)\n",
    "        writer.writerow(data)\n",
    "\n",
    "    if(price<14):\n",
    "        send_mail()\n",
    "\n",
    "\n",
    "\n",
    "\n",
    "        \n",
    "    \n",
    "    "
   ]
  },
  {
   "cell_type": "code",
   "execution_count": 74,
   "id": "4ac50a82-0f37-4cc9-90c7-316a19be5d32",
   "metadata": {},
   "outputs": [
    {
     "ename": "KeyboardInterrupt",
     "evalue": "",
     "output_type": "error",
     "traceback": [
      "\u001b[1;31m---------------------------------------------------------------------------\u001b[0m",
      "\u001b[1;31mKeyboardInterrupt\u001b[0m                         Traceback (most recent call last)",
      "Cell \u001b[1;32mIn[74], line 2\u001b[0m\n\u001b[0;32m      1\u001b[0m \u001b[38;5;28;01mwhile\u001b[39;00m(\u001b[38;5;28;01mTrue\u001b[39;00m):\n\u001b[1;32m----> 2\u001b[0m     check_price()\n\u001b[0;32m      3\u001b[0m     time\u001b[38;5;241m.\u001b[39msleep(\u001b[38;5;241m5\u001b[39m)\n",
      "Cell \u001b[1;32mIn[73], line 10\u001b[0m, in \u001b[0;36mcheck_price\u001b[1;34m()\u001b[0m\n\u001b[0;32m      6\u001b[0m page\u001b[38;5;241m=\u001b[39mrequests\u001b[38;5;241m.\u001b[39mget(URL,headers\u001b[38;5;241m=\u001b[39mheaders)\n\u001b[0;32m      8\u001b[0m Soup1\u001b[38;5;241m=\u001b[39mBeautifulSoup(page\u001b[38;5;241m.\u001b[39mcontent,\u001b[38;5;124m\"\u001b[39m\u001b[38;5;124mhtml.parser\u001b[39m\u001b[38;5;124m\"\u001b[39m)\n\u001b[1;32m---> 10\u001b[0m Soup2\u001b[38;5;241m=\u001b[39mBeautifulSoup(Soup1\u001b[38;5;241m.\u001b[39mprettify(),\u001b[38;5;124m\"\u001b[39m\u001b[38;5;124mhtml.parser\u001b[39m\u001b[38;5;124m\"\u001b[39m)\n\u001b[0;32m     12\u001b[0m title\u001b[38;5;241m=\u001b[39mSoup2\u001b[38;5;241m.\u001b[39mfind(\u001b[38;5;28mid\u001b[39m\u001b[38;5;241m=\u001b[39m\u001b[38;5;124m'\u001b[39m\u001b[38;5;124mproductTitle\u001b[39m\u001b[38;5;124m'\u001b[39m)\u001b[38;5;241m.\u001b[39mget_text()\u001b[38;5;241m.\u001b[39mstrip()\n\u001b[0;32m     15\u001b[0m price\u001b[38;5;241m=\u001b[39mSoup2\u001b[38;5;241m.\u001b[39mfind(class_\u001b[38;5;241m=\u001b[39m\u001b[38;5;124m\"\u001b[39m\u001b[38;5;124maok-offscreen\u001b[39m\u001b[38;5;124m\"\u001b[39m)\u001b[38;5;241m.\u001b[39mget_text()\u001b[38;5;241m.\u001b[39mstrip()\n",
      "File \u001b[1;32m~\\anaconda3\\Lib\\site-packages\\bs4\\element.py:1926\u001b[0m, in \u001b[0;36mTag.prettify\u001b[1;34m(self, encoding, formatter)\u001b[0m\n\u001b[0;32m   1916\u001b[0m \u001b[38;5;250m\u001b[39m\u001b[38;5;124;03m\"\"\"Pretty-print this PageElement as a string.\u001b[39;00m\n\u001b[0;32m   1917\u001b[0m \n\u001b[0;32m   1918\u001b[0m \u001b[38;5;124;03m:param encoding: The eventual encoding of the string. If this is None,\u001b[39;00m\n\u001b[1;32m   (...)\u001b[0m\n\u001b[0;32m   1923\u001b[0m \u001b[38;5;124;03m    (otherwise).\u001b[39;00m\n\u001b[0;32m   1924\u001b[0m \u001b[38;5;124;03m\"\"\"\u001b[39;00m\n\u001b[0;32m   1925\u001b[0m \u001b[38;5;28;01mif\u001b[39;00m encoding \u001b[38;5;129;01mis\u001b[39;00m \u001b[38;5;28;01mNone\u001b[39;00m:\n\u001b[1;32m-> 1926\u001b[0m     \u001b[38;5;28;01mreturn\u001b[39;00m \u001b[38;5;28mself\u001b[39m\u001b[38;5;241m.\u001b[39mdecode(\u001b[38;5;28;01mTrue\u001b[39;00m, formatter\u001b[38;5;241m=\u001b[39mformatter)\n\u001b[0;32m   1927\u001b[0m \u001b[38;5;28;01melse\u001b[39;00m:\n\u001b[0;32m   1928\u001b[0m     \u001b[38;5;28;01mreturn\u001b[39;00m \u001b[38;5;28mself\u001b[39m\u001b[38;5;241m.\u001b[39mencode(encoding, \u001b[38;5;28;01mTrue\u001b[39;00m, formatter\u001b[38;5;241m=\u001b[39mformatter)\n",
      "File \u001b[1;32m~\\anaconda3\\Lib\\site-packages\\bs4\\__init__.py:805\u001b[0m, in \u001b[0;36mBeautifulSoup.decode\u001b[1;34m(self, pretty_print, eventual_encoding, formatter, iterator)\u001b[0m\n\u001b[0;32m    803\u001b[0m \u001b[38;5;28;01melse\u001b[39;00m:\n\u001b[0;32m    804\u001b[0m     indent_level \u001b[38;5;241m=\u001b[39m \u001b[38;5;241m0\u001b[39m\n\u001b[1;32m--> 805\u001b[0m \u001b[38;5;28;01mreturn\u001b[39;00m prefix \u001b[38;5;241m+\u001b[39m \u001b[38;5;28msuper\u001b[39m(BeautifulSoup, \u001b[38;5;28mself\u001b[39m)\u001b[38;5;241m.\u001b[39mdecode(\n\u001b[0;32m    806\u001b[0m     indent_level, eventual_encoding, formatter, iterator)\n",
      "File \u001b[1;32m~\\anaconda3\\Lib\\site-packages\\bs4\\element.py:1713\u001b[0m, in \u001b[0;36mTag.decode\u001b[1;34m(self, indent_level, eventual_encoding, formatter, iterator)\u001b[0m\n\u001b[0;32m   1711\u001b[0m \u001b[38;5;28;01mfor\u001b[39;00m event, element \u001b[38;5;129;01min\u001b[39;00m \u001b[38;5;28mself\u001b[39m\u001b[38;5;241m.\u001b[39m_event_stream(iterator):\n\u001b[0;32m   1712\u001b[0m     \u001b[38;5;28;01mif\u001b[39;00m event \u001b[38;5;129;01min\u001b[39;00m (Tag\u001b[38;5;241m.\u001b[39mSTART_ELEMENT_EVENT, Tag\u001b[38;5;241m.\u001b[39mEMPTY_ELEMENT_EVENT):\n\u001b[1;32m-> 1713\u001b[0m         piece \u001b[38;5;241m=\u001b[39m element\u001b[38;5;241m.\u001b[39m_format_tag(\n\u001b[0;32m   1714\u001b[0m             eventual_encoding, formatter, opening\u001b[38;5;241m=\u001b[39m\u001b[38;5;28;01mTrue\u001b[39;00m\n\u001b[0;32m   1715\u001b[0m         )\n\u001b[0;32m   1716\u001b[0m     \u001b[38;5;28;01melif\u001b[39;00m event \u001b[38;5;129;01mis\u001b[39;00m Tag\u001b[38;5;241m.\u001b[39mEND_ELEMENT_EVENT:\n\u001b[0;32m   1717\u001b[0m         piece \u001b[38;5;241m=\u001b[39m element\u001b[38;5;241m.\u001b[39m_format_tag(\n\u001b[0;32m   1718\u001b[0m             eventual_encoding, formatter, opening\u001b[38;5;241m=\u001b[39m\u001b[38;5;28;01mFalse\u001b[39;00m\n\u001b[0;32m   1719\u001b[0m         )\n",
      "File \u001b[1;32m~\\anaconda3\\Lib\\site-packages\\bs4\\element.py:1884\u001b[0m, in \u001b[0;36mTag._format_tag\u001b[1;34m(self, eventual_encoding, formatter, opening)\u001b[0m\n\u001b[0;32m   1878\u001b[0m     \u001b[38;5;28;01melif\u001b[39;00m (\n\u001b[0;32m   1879\u001b[0m             \u001b[38;5;28misinstance\u001b[39m(val, AttributeValueWithCharsetSubstitution)\n\u001b[0;32m   1880\u001b[0m             \u001b[38;5;129;01mand\u001b[39;00m eventual_encoding \u001b[38;5;129;01mis\u001b[39;00m \u001b[38;5;129;01mnot\u001b[39;00m \u001b[38;5;28;01mNone\u001b[39;00m\n\u001b[0;32m   1881\u001b[0m     ):\n\u001b[0;32m   1882\u001b[0m         val \u001b[38;5;241m=\u001b[39m val\u001b[38;5;241m.\u001b[39mencode(eventual_encoding)\n\u001b[1;32m-> 1884\u001b[0m     text \u001b[38;5;241m=\u001b[39m formatter\u001b[38;5;241m.\u001b[39mattribute_value(val)\n\u001b[0;32m   1885\u001b[0m     decoded \u001b[38;5;241m=\u001b[39m (\n\u001b[0;32m   1886\u001b[0m         \u001b[38;5;28mstr\u001b[39m(key) \u001b[38;5;241m+\u001b[39m \u001b[38;5;124m'\u001b[39m\u001b[38;5;124m=\u001b[39m\u001b[38;5;124m'\u001b[39m\n\u001b[0;32m   1887\u001b[0m         \u001b[38;5;241m+\u001b[39m formatter\u001b[38;5;241m.\u001b[39mquoted_attribute_value(text))\n\u001b[0;32m   1888\u001b[0m attrs\u001b[38;5;241m.\u001b[39mappend(decoded)\n",
      "File \u001b[1;32m~\\anaconda3\\Lib\\site-packages\\bs4\\formatter.py:128\u001b[0m, in \u001b[0;36mFormatter.attribute_value\u001b[1;34m(self, value)\u001b[0m\n\u001b[0;32m    121\u001b[0m \u001b[38;5;28;01mdef\u001b[39;00m \u001b[38;5;21mattribute_value\u001b[39m(\u001b[38;5;28mself\u001b[39m, value):\n\u001b[0;32m    122\u001b[0m \u001b[38;5;250m    \u001b[39m\u001b[38;5;124;03m\"\"\"Process the value of an attribute.\u001b[39;00m\n\u001b[0;32m    123\u001b[0m \n\u001b[0;32m    124\u001b[0m \u001b[38;5;124;03m    :param ns: A string.\u001b[39;00m\n\u001b[0;32m    125\u001b[0m \u001b[38;5;124;03m    :return: A string with certain characters replaced by named\u001b[39;00m\n\u001b[0;32m    126\u001b[0m \u001b[38;5;124;03m       or numeric entities.\u001b[39;00m\n\u001b[0;32m    127\u001b[0m \u001b[38;5;124;03m    \"\"\"\u001b[39;00m\n\u001b[1;32m--> 128\u001b[0m     \u001b[38;5;28;01mreturn\u001b[39;00m \u001b[38;5;28mself\u001b[39m\u001b[38;5;241m.\u001b[39msubstitute(value)\n",
      "File \u001b[1;32m~\\anaconda3\\Lib\\site-packages\\bs4\\formatter.py:119\u001b[0m, in \u001b[0;36mFormatter.substitute\u001b[1;34m(self, ns)\u001b[0m\n\u001b[0;32m    117\u001b[0m     \u001b[38;5;28;01mreturn\u001b[39;00m ns\n\u001b[0;32m    118\u001b[0m \u001b[38;5;66;03m# Substitute.\u001b[39;00m\n\u001b[1;32m--> 119\u001b[0m \u001b[38;5;28;01mreturn\u001b[39;00m \u001b[38;5;28mself\u001b[39m\u001b[38;5;241m.\u001b[39mentity_substitution(ns)\n",
      "File \u001b[1;32m~\\anaconda3\\Lib\\site-packages\\bs4\\dammit.py:270\u001b[0m, in \u001b[0;36mEntitySubstitution.substitute_xml\u001b[1;34m(cls, value, make_quoted_attribute)\u001b[0m\n\u001b[0;32m    258\u001b[0m \u001b[38;5;250m\u001b[39m\u001b[38;5;124;03m\"\"\"Substitute XML entities for special XML characters.\u001b[39;00m\n\u001b[0;32m    259\u001b[0m \n\u001b[0;32m    260\u001b[0m \u001b[38;5;124;03m:param value: A string to be substituted. The less-than sign\u001b[39;00m\n\u001b[1;32m   (...)\u001b[0m\n\u001b[0;32m    267\u001b[0m \u001b[38;5;124;03m quoted, as befits an attribute value.\u001b[39;00m\n\u001b[0;32m    268\u001b[0m \u001b[38;5;124;03m\"\"\"\u001b[39;00m\n\u001b[0;32m    269\u001b[0m \u001b[38;5;66;03m# Escape angle brackets and ampersands.\u001b[39;00m\n\u001b[1;32m--> 270\u001b[0m value \u001b[38;5;241m=\u001b[39m \u001b[38;5;28mcls\u001b[39m\u001b[38;5;241m.\u001b[39mAMPERSAND_OR_BRACKET\u001b[38;5;241m.\u001b[39msub(\n\u001b[0;32m    271\u001b[0m     \u001b[38;5;28mcls\u001b[39m\u001b[38;5;241m.\u001b[39m_substitute_xml_entity, value)\n\u001b[0;32m    273\u001b[0m \u001b[38;5;28;01mif\u001b[39;00m make_quoted_attribute:\n\u001b[0;32m    274\u001b[0m     value \u001b[38;5;241m=\u001b[39m \u001b[38;5;28mcls\u001b[39m\u001b[38;5;241m.\u001b[39mquoted_attribute_value(value)\n",
      "\u001b[1;31mKeyboardInterrupt\u001b[0m: "
     ]
    }
   ],
   "source": [
    "while(True):\n",
    "    check_price()\n",
    "    time.sleep(5)"
   ]
  },
  {
   "cell_type": "code",
   "execution_count": 86,
   "id": "cc7a15c6-a12b-4fc1-a4f7-03fbe6ef99bd",
   "metadata": {},
   "outputs": [],
   "source": [
    "import smtplib\n",
    "\n",
    "def send_mail():\n",
    "    server = smtplib.SMTP_SSL('smtp.gmail.com', 465)\n",
    "    server.login('abdullahanwer3080@gmail.com', 'bzwwrzuwhbggztot')  # no spaces in app password\n",
    "\n",
    "    subject = \"The Shirt you want is below $15! Now is your chance to buy!\"\n",
    "    body = \"Abdullah, This is the moment we have been waiting for. Now is your chance to pick up the shirt of your dreams. Don't mess it up! Link here: https://www.amazon.com/dp/B00QSNKKHG\"\n",
    "\n",
    "    msg = f\"Subject: {subject}\\n\\n{body}\"\n",
    "\n",
    "    server.sendmail(\n",
    "        'abdullahanwer3080@gmail.com',\n",
    "        'abdullahanwer308@yahoo.com',\n",
    "        msg\n",
    "    )\n",
    "    server.quit()\n"
   ]
  },
  {
   "cell_type": "code",
   "execution_count": 87,
   "id": "380963cc-cce3-4183-9181-a469b67dbc56",
   "metadata": {},
   "outputs": [],
   "source": [
    "send_mail()"
   ]
  },
  {
   "cell_type": "code",
   "execution_count": null,
   "id": "49e4f8c7-abd0-4afb-9b01-1fc1b5ad2b21",
   "metadata": {},
   "outputs": [],
   "source": []
  }
 ],
 "metadata": {
  "kernelspec": {
   "display_name": "Python [conda env:base] *",
   "language": "python",
   "name": "conda-base-py"
  },
  "language_info": {
   "codemirror_mode": {
    "name": "ipython",
    "version": 3
   },
   "file_extension": ".py",
   "mimetype": "text/x-python",
   "name": "python",
   "nbconvert_exporter": "python",
   "pygments_lexer": "ipython3",
   "version": "3.12.7"
  }
 },
 "nbformat": 4,
 "nbformat_minor": 5
}
